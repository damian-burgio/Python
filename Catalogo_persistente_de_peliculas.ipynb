{
  "nbformat": 4,
  "nbformat_minor": 0,
  "metadata": {
    "colab": {
      "name": "Catalogo_persistente_de_peliculas.ipynb",
      "provenance": [],
      "collapsed_sections": []
    },
    "kernelspec": {
      "name": "python3",
      "display_name": "Python 3"
    },
    "language_info": {
      "name": "python"
    }
  },
  "cells": [
    {
      "cell_type": "code",
      "metadata": {
        "id": "kzhIklIX5ySj"
      },
      "source": [
        "#import io\n",
        "import pickle\n",
        "\n",
        "class Pelicula:\n",
        "\n",
        "  #constructor\n",
        "  def __init__(self, titulo, duracion, lanzamiento):\n",
        "    self.titulo = titulo\n",
        "    self.duracion = duracion\n",
        "    self.lanzamiento = lanzamiento\n",
        "    print(f'Se ha creado la pelicula: {self.titulo}')\n",
        "\n",
        "  def __str__(self):\n",
        "    return f'{self.titulo} ({self.lanzamiento})'\n",
        "\n",
        "class Catalogo:\n",
        "  \n",
        "  peliculas = []\n",
        "\n",
        "  #Constructor\n",
        "  def __init__(self):\n",
        "    self.cargar()\n",
        "\n",
        "  def agregar(self,p):\n",
        "    self.peliculas.append(p)\n",
        "    self.guardar()\n",
        "\n",
        "  def mostrar(self):\n",
        "    if len(self.peliculas) == 0:\n",
        "      print('El catalogo esta vacio.')\n",
        "      return\n",
        "    for p in self.peliculas:\n",
        "      print(p)\n",
        "\n",
        "  def cargar(self):\n",
        "    fichero = open('catalogo.pckl', 'ab+')\n",
        "    fichero.seek(0)\n",
        "    try:\n",
        "      self.peliculas = pickle.load(fichero)\n",
        "    except:\n",
        "      print('El fichero esta vacio.')\n",
        "    finally:\n",
        "      fichero.close()\n",
        "      del(fichero)\n",
        "      print(f'Se han cargado {len(self.peliculas)} peliculas')\n",
        "\n",
        "  def guardar(self):\n",
        "    fichero = open('catalogo.pckl', 'wb')\n",
        "    pickle.dump(self.peliculas, fichero)\n",
        "    fichero.close()\n",
        "    del(fichero)\n",
        "\n",
        "  #Destructor\n",
        "  def __del__(self):\n",
        "    self.guardar()#guardado automatico.\n",
        "    print('Se ha guardado el fichero.')"
      ],
      "execution_count": 2,
      "outputs": []
    },
    {
      "cell_type": "code",
      "metadata": {
        "colab": {
          "base_uri": "https://localhost:8080/"
        },
        "id": "oKJs96Mj8Q8I",
        "outputId": "68b16866-1092-4c00-d83e-cbb055c4ab9b"
      },
      "source": [
        "c = Catalogo()"
      ],
      "execution_count": 3,
      "outputs": [
        {
          "output_type": "stream",
          "text": [
            "El fichero esta vacio.\n",
            "Se han cargado 0 peliculas\n"
          ],
          "name": "stdout"
        }
      ]
    },
    {
      "cell_type": "code",
      "metadata": {
        "colab": {
          "base_uri": "https://localhost:8080/"
        },
        "id": "qTn4C7jD8fzX",
        "outputId": "459dd578-af9c-419c-e9b6-30ea2c2a40f1"
      },
      "source": [
        "c.mostrar()"
      ],
      "execution_count": 4,
      "outputs": [
        {
          "output_type": "stream",
          "text": [
            "El catalogo esta vacio.\n"
          ],
          "name": "stdout"
        }
      ]
    },
    {
      "cell_type": "code",
      "metadata": {
        "colab": {
          "base_uri": "https://localhost:8080/"
        },
        "id": "70C51OCo-nK9",
        "outputId": "3c9d32d5-0f00-4b3f-a1ce-df9e6260b49d"
      },
      "source": [
        "c.agregar(Pelicula('El Padrino', 175, 1972))"
      ],
      "execution_count": 5,
      "outputs": [
        {
          "output_type": "stream",
          "text": [
            "Se ha creado la pelicula: El Padrino\n"
          ],
          "name": "stdout"
        }
      ]
    },
    {
      "cell_type": "code",
      "metadata": {
        "colab": {
          "base_uri": "https://localhost:8080/"
        },
        "id": "74t8LpDz_Dd0",
        "outputId": "a1a57781-7080-4840-d7f8-9e43e8d3b1e9"
      },
      "source": [
        "c.agregar(Pelicula('El Padrino: Parte 2', 202, 1974))"
      ],
      "execution_count": 6,
      "outputs": [
        {
          "output_type": "stream",
          "text": [
            "Se ha creado la pelicula: El Padrino: Parte 2\n"
          ],
          "name": "stdout"
        }
      ]
    },
    {
      "cell_type": "code",
      "metadata": {
        "colab": {
          "base_uri": "https://localhost:8080/"
        },
        "id": "7bqhPFTp_HH3",
        "outputId": "72151780-4623-4e3f-d664-77944496c61f"
      },
      "source": [
        "c.mostrar()"
      ],
      "execution_count": 7,
      "outputs": [
        {
          "output_type": "stream",
          "text": [
            "El Padrino (1972)\n",
            "El Padrino: Parte 2 (1974)\n"
          ],
          "name": "stdout"
        }
      ]
    },
    {
      "cell_type": "code",
      "metadata": {
        "colab": {
          "base_uri": "https://localhost:8080/"
        },
        "id": "DZdC5sS4CSB-",
        "outputId": "5b96c29f-0cde-41ca-ae43-8b97f964b3bc"
      },
      "source": [
        "del(c)"
      ],
      "execution_count": 8,
      "outputs": [
        {
          "output_type": "stream",
          "text": [
            "Se ha guardado el fichero.\n"
          ],
          "name": "stdout"
        }
      ]
    },
    {
      "cell_type": "code",
      "metadata": {
        "colab": {
          "base_uri": "https://localhost:8080/"
        },
        "id": "t7omXg_f_K1C",
        "outputId": "2485a295-bac0-472f-b189-af28d319e164"
      },
      "source": [
        "c = Catalogo()"
      ],
      "execution_count": 9,
      "outputs": [
        {
          "output_type": "stream",
          "text": [
            "Se han cargado 2 peliculas\n"
          ],
          "name": "stdout"
        }
      ]
    },
    {
      "cell_type": "code",
      "metadata": {
        "colab": {
          "base_uri": "https://localhost:8080/"
        },
        "id": "AcNc8uIi_j6f",
        "outputId": "d7de004a-a708-4228-c253-28d4192c2abd"
      },
      "source": [
        "c.mostrar()"
      ],
      "execution_count": 10,
      "outputs": [
        {
          "output_type": "stream",
          "text": [
            "El Padrino (1972)\n",
            "El Padrino: Parte 2 (1974)\n"
          ],
          "name": "stdout"
        }
      ]
    },
    {
      "cell_type": "code",
      "metadata": {
        "id": "rnpTXMtL_-m-"
      },
      "source": [
        ""
      ],
      "execution_count": null,
      "outputs": []
    }
  ]
}